{
 "cells": [
  {
   "cell_type": "code",
   "execution_count": 1,
   "metadata": {},
   "outputs": [],
   "source": [
    "import pandas as pd\n",
    "import requests\n",
    "from bs4 import BeautifulSoup\n",
    "# optional dependencies, but internal functions require them\n",
    "import openpyxl\n",
    "import lxml\n",
    "import html5lib\n",
    "import streamlit as st"
   ]
  },
  {
   "cell_type": "code",
   "execution_count": null,
   "metadata": {},
   "outputs": [],
   "source": [
    "# importing the data from the excel file\n",
    "file = st.file_uploader(\"Upload file\", type=[\"xlsx\"])\n",
    "df = pd.read_excel(file)\n",
    "df.describe()"
   ]
  },
  {
   "cell_type": "code",
   "execution_count": 5,
   "metadata": {},
   "outputs": [],
   "source": [
    "# making new dataframes for the required data\n",
    "required_data = pd.DataFrame()\n",
    "required_data = df[['GSTIN/UIN of Recipient', 'Reciever Name']].drop_duplicates()\n",
    "required_data['Count of Invoices'] = required_data['Reciever Name'].map(df['Reciever Name'].value_counts())\n",
    "required_data['Total Invoice Value'] = required_data['Reciever Name'].map(df.groupby('Reciever Name')['Invoice value'].sum())"
   ]
  },
  {
   "cell_type": "code",
   "execution_count": 6,
   "metadata": {},
   "outputs": [],
   "source": [
    "# defining the headers for making API calls\n",
    "headers = {\n",
    "  'User-Agent': 'Mozilla/5.0 (Macintosh; Intel Mac OS X 10.15; rv:134.0) Gecko/20100101 Firefox/134.0',\n",
    "  'Accept': 'text/html,application/xhtml+xml,application/xml;q=0.9,*/*;q=0.8',\n",
    "  'Accept-Language': 'en-GB,en;q=0.5',\n",
    "  'Accept-Encoding': 'gzip, deflate, br, zstd',\n",
    "  'Referer': 'https://www.knowyourgst.com/gst-number-search/dugar-polychem-07ADKPD7356H1ZF/',\n",
    "  'Content-Type': 'application/x-www-form-urlencoded',\n",
    "  'Origin': 'https://www.knowyourgst.com',\n",
    "  'DNT': '1',\n",
    "  'Sec-GPC': '1',\n",
    "  'Connection': 'keep-alive',\n",
    "  'Cookie': 'csrftoken=3OrQeqBtkXwnNXNPYXipQEvKAWzJHc3DdffIyimcROKpoN1zK7HrfHepINF2EYdy; csrftoken=3OrQeqBtkXwnNXNPYXipQEvKAWzJHc3DdffIyimcROKpoN1zK7HrfHepINF2EYdy',\n",
    "  'Upgrade-Insecure-Requests': '1',\n",
    "  'Sec-Fetch-Dest': 'document',\n",
    "  'Sec-Fetch-Mode': 'navigate',\n",
    "  'Sec-Fetch-Site': 'same-origin',\n",
    "  'Sec-Fetch-User': '?1',\n",
    "  'Priority': 'u=0, i',\n",
    "  'TE': 'trailers'\n",
    "}"
   ]
  },
  {
   "cell_type": "code",
   "execution_count": 7,
   "metadata": {},
   "outputs": [],
   "source": [
    "def getAddress(receiver_name: str, gstin: str):\n",
    "    receiver_name = receiver_name.replace(' ', '-')\n",
    "    receiver_name = receiver_name.replace('M/S', 'ms')\n",
    "    url = f'https://www.knowyourgst.com/gst-number-search/{receiver_name}-{gstin}/'\n",
    "    response = requests.get(url, headers=headers)\n",
    "    soup = BeautifulSoup(response.text, 'html.parser')\n",
    "    table = soup.find('table')\n",
    "    table_data = str(table)\n",
    "    print(table_data)\n",
    "    df2 = pd.read_html(table_data)[0]\n",
    "    address = df2[\"Details\"][2]\n",
    "    return address\n",
    "    "
   ]
  },
  {
   "cell_type": "code",
   "execution_count": null,
   "metadata": {},
   "outputs": [],
   "source": [
    "# enumerate through the data and get the address\n",
    "for index, row in required_data.iterrows():\n",
    "    try:\n",
    "        address = getAddress(row['Reciever Name'], row['GSTIN/UIN of Recipient'])\n",
    "        required_data.loc[index, 'Address'] = address\n",
    "        print(address)\n",
    "    except Exception as e:\n",
    "        print(f\"Failed to get address for {row['Reciever Name']}: {e}\")\n",
    "        required_data.loc[index, 'Address'] = \"failure\"\n",
    "        address = \"\"\n",
    "        "
   ]
  },
  {
   "cell_type": "code",
   "execution_count": null,
   "metadata": {},
   "outputs": [],
   "source": [
    "required_data"
   ]
  },
  {
   "cell_type": "code",
   "execution_count": 10,
   "metadata": {},
   "outputs": [],
   "source": [
    "# export the required data to a new excel file in descending order of total invoice value\n",
    "required_data = required_data.sort_values(by='Total Invoice Value', ascending=False)\n",
    "required_data.to_excel(\"required_data.xlsx\")"
   ]
  }
 ],
 "metadata": {
  "kernelspec": {
   "display_name": "venv",
   "language": "python",
   "name": "python3"
  },
  "language_info": {
   "codemirror_mode": {
    "name": "ipython",
    "version": 3
   },
   "file_extension": ".py",
   "mimetype": "text/x-python",
   "name": "python",
   "nbconvert_exporter": "python",
   "pygments_lexer": "ipython3",
   "version": "3.12.6"
  }
 },
 "nbformat": 4,
 "nbformat_minor": 2
}
